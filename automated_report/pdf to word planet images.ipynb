{
 "cells": [
  {
   "cell_type": "code",
   "execution_count": 8,
   "metadata": {},
   "outputs": [],
   "source": [
    "import fitz # PyMuPDF\n",
    "import io\n",
    "from PIL import Image\n",
    "import shutil, os"
   ]
  },
  {
   "cell_type": "code",
   "execution_count": 45,
   "metadata": {},
   "outputs": [
    {
     "name": "stdout",
     "output_type": "stream",
     "text": [
      "[+] Found a total of 3 images in page 0\n",
      "[+] Found a total of 3 images in page 1\n",
      "[+] Found a total of 3 images in page 2\n",
      "[+] Found a total of 3 images in page 3\n",
      "[+] Found a total of 3 images in page 4\n",
      "[+] Found a total of 3 images in page 5\n",
      "[+] Found a total of 3 images in page 6\n",
      "[+] Found a total of 3 images in page 7\n",
      "[+] Found a total of 3 images in page 8\n",
      "[+] Found a total of 3 images in page 9\n",
      "[+] Found a total of 3 images in page 10\n",
      "[+] Found a total of 3 images in page 11\n",
      "[+] Found a total of 3 images in page 12\n",
      "[+] Found a total of 3 images in page 13\n",
      "[+] Found a total of 3 images in page 14\n",
      "[+] Found a total of 3 images in page 15\n",
      "[+] Found a total of 3 images in page 16\n"
     ]
    }
   ],
   "source": [
    "# open the file\n",
    "pdf_file = fitz.open(\"CAFI_rgb_2019_2021.pdf\")\n",
    "dest_folder = \"photo_planet\"\n",
    "files = []\n",
    "\n",
    "dest_folder = \"photo_planet\"\n",
    "n = 0\n",
    "\n",
    "# iterate over PDF pages\n",
    "for page_index in range(len(pdf_file)):\n",
    "    n = n + 1\n",
    "    # get the page itself\n",
    "    page = pdf_file[page_index]\n",
    "    image_list = page.getImageList()\n",
    "    # printing number of images found in this page\n",
    "    if image_list:\n",
    "        print(f\"[+] Found a total of {len(image_list)} images in page {page_index}\")\n",
    "    else:\n",
    "        print(\"[!] No images found on page\", page_index)\n",
    "    for image_index, img in enumerate(page.getImageList(), start=1):\n",
    "        # get the XREF of the image\n",
    "        xref = img[0]\n",
    "        \n",
    "        # extract the image bytes\n",
    "        base_image = pdf_file.extractImage(xref)\n",
    "        image_bytes = base_image[\"image\"]\n",
    "        # get the image extension\n",
    "        image_ext = base_image[\"ext\"]\n",
    "        jpg_ext = \"jpg\"\n",
    "#         print(image_ext)\n",
    "#         print(jpg_ext)\n",
    "        # load it to PIL\n",
    "        image = Image.open(io.BytesIO(image_bytes))\n",
    "        # save it to local disk\n",
    "        #image.save(open(f\"pp{page_index+1}_{image_index}.{jpg_ext}\", \"wb\")) download \n",
    "        image.save(open(f\"pp{n}.{jpg_ext}\", \"wb\"))\n",
    "#         files.append(\"pp\"+str(page_index+1)+\"_\"+str(image_index)+\".\"+str(jpg_ext))\n",
    "        files.append(\"pp\"+str(n)+\".\"+str(jpg_ext))\n",
    "        \n",
    "    \n",
    "    \n",
    "    for f in files:\n",
    "        \n",
    "        shutil.copy(f, dest_folder)\n",
    "        \n",
    "        "
   ]
  },
  {
   "cell_type": "code",
   "execution_count": 48,
   "metadata": {},
   "outputs": [],
   "source": [
    "# Remove all single file\n",
    "for i in range(1, len(rows)+1):\n",
    "    if os.path.exists('pp'+str(i)+'.jpg'):\n",
    "      os.remove('pp'+str(i)+'.jpg')\n",
    "    else:\n",
    "      print(\"The file does not exist\")"
   ]
  },
  {
   "cell_type": "code",
   "execution_count": null,
   "metadata": {},
   "outputs": [],
   "source": []
  }
 ],
 "metadata": {
  "kernelspec": {
   "display_name": "Python 3",
   "language": "python",
   "name": "python3"
  },
  "language_info": {
   "codemirror_mode": {
    "name": "ipython",
    "version": 3
   },
   "file_extension": ".py",
   "mimetype": "text/x-python",
   "name": "python",
   "nbconvert_exporter": "python",
   "pygments_lexer": "ipython3",
   "version": "3.7.3"
  }
 },
 "nbformat": 4,
 "nbformat_minor": 2
}
